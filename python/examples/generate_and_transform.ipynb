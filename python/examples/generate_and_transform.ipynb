{
 "cells": [
  {
   "cell_type": "markdown",
   "metadata": {},
   "source": [
    "# Example usage of sparse_grid"
   ]
  },
  {
   "cell_type": "markdown",
   "metadata": {},
   "source": [
    "## Generating data for a Chebyshev grid"
   ]
  },
  {
   "cell_type": "markdown",
   "metadata": {},
   "source": [
    "Here we use the Chebyshev grid as an example. To generate a IR grid,\n",
    "one need to provide an extra parameter for $\\Lambda$:\n",
    "```python\n",
    "# ncoeff here is optional.\n",
    "gen = get_generator('ir', stats=stats, lambda_=1e5, ncoeff=ncoeff)\n",
    "ir_data = gen()\n",
    "```"
   ]
  },
  {
   "cell_type": "code",
   "execution_count": 1,
   "metadata": {},
   "outputs": [],
   "source": [
    "import sys\n",
    "sys.path.append('..')\n",
    "from sparse_grid import get_generator"
   ]
  },
  {
   "cell_type": "code",
   "execution_count": 2,
   "metadata": {},
   "outputs": [],
   "source": [
    "stats = 'fermi'\n",
    "ncoeff = 32\n",
    "\n",
    "# generator object\n",
    "gen = get_generator('chebyshev', stats=stats, ncoeff=ncoeff)\n",
    "\n",
    "# actually generating data\n",
    "cheb_data = gen()"
   ]
  },
  {
   "cell_type": "code",
   "execution_count": 3,
   "metadata": {},
   "outputs": [
    {
     "data": {
      "text/plain": [
       "{'type': 'chebyshev', 'ncoeff': 32}"
      ]
     },
     "execution_count": 3,
     "metadata": {},
     "output_type": "execute_result"
    }
   ],
   "source": [
    "cheb_data.metadata"
   ]
  },
  {
   "cell_type": "markdown",
   "metadata": {},
   "source": [
    "## Scaling data to a certain temperature\n",
    "\n",
    "The `cheb_data` we obtained above is calculated on a dimension less\n",
    "grid. In order to use it for a specific temperature, it has to be \n",
    "scaled to the given `beta` value."
   ]
  },
  {
   "cell_type": "code",
   "execution_count": 4,
   "metadata": {},
   "outputs": [],
   "source": [
    "from sparse_grid import transform_data"
   ]
  },
  {
   "cell_type": "code",
   "execution_count": 5,
   "metadata": {},
   "outputs": [],
   "source": [
    "beta = 10.\n",
    "cheb_data_ft = transform_data(cheb_data, beta)"
   ]
  },
  {
   "cell_type": "code",
   "execution_count": 6,
   "metadata": {},
   "outputs": [
    {
     "data": {
      "text/plain": [
       "{'type': 'chebyshev', 'ncoeff': 32, 'beta': 10.0}"
      ]
     },
     "execution_count": 6,
     "metadata": {},
     "output_type": "execute_result"
    }
   ],
   "source": [
    "cheb_data_ft.metadata"
   ]
  },
  {
   "cell_type": "markdown",
   "metadata": {},
   "source": [
    "## Transforming a function\n",
    "\n",
    "Here we start with a simple function:\n",
    "$$\n",
    "f(\\tau) = -\\frac{\\tau^2}{\\beta^2}+\\frac{\\tau}{\\beta}-\\frac{1}{2}.\n",
    "$$"
   ]
  },
  {
   "cell_type": "code",
   "execution_count": 7,
   "metadata": {},
   "outputs": [],
   "source": [
    "def func_tau(tau):\n",
    "    return -tau**2/beta**2 + tau/beta - 0.5"
   ]
  },
  {
   "cell_type": "markdown",
   "metadata": {},
   "source": [
    "Let's plot it on the Chebyshev grid."
   ]
  },
  {
   "cell_type": "code",
   "execution_count": 8,
   "metadata": {},
   "outputs": [],
   "source": [
    "import matplotlib.pyplot as plt"
   ]
  },
  {
   "cell_type": "code",
   "execution_count": 9,
   "metadata": {},
   "outputs": [
    {
     "data": {
      "text/plain": [
       "(-0.5118378999174271, 0.0)"
      ]
     },
     "execution_count": 9,
     "metadata": {},
     "output_type": "execute_result"
    },
    {
     "data": {
      "image/png": "[encoded data removed]",
      "text/plain": [
       "<Figure size 432x288 with 1 Axes>"
      ]
     },
     "metadata": {
      "needs_background": "light"
     },
     "output_type": "display_data"
    }
   ],
   "source": [
    "ftau = func_tau(cheb_data_ft.xgrid)\n",
    "plt.plot(cheb_data_ft.xgrid, ftau, '-+')\n",
    "plt.ylim(None,0)"
   ]
  },
  {
   "cell_type": "markdown",
   "metadata": {},
   "source": [
    "Now we perform the transformation to the Chebyshev basis coefficients."
   ]
  },
  {
   "cell_type": "code",
   "execution_count": 10,
   "metadata": {},
   "outputs": [],
   "source": [
    "import sparse_grid.transform as st"
   ]
  },
  {
   "cell_type": "code",
   "execution_count": 11,
   "metadata": {},
   "outputs": [
    {
     "data": {
      "text/plain": [
       "[<matplotlib.lines.Line2D at 0x7f77fcf23340>]"
      ]
     },
     "execution_count": 11,
     "metadata": {},
     "output_type": "execute_result"
    },
    {
     "data": {
      "image/png": "[encoded data removed]",
      "text/plain": [
       "<Figure size 432x288 with 1 Axes>"
      ]
     },
     "metadata": {
      "needs_background": "light"
     },
     "output_type": "display_data"
    }
   ],
   "source": [
    "fl = st.tau_to_l(cheb_data_ft, ftau)\n",
    "plt.plot(fl, '--+')"
   ]
  },
  {
   "cell_type": "markdown",
   "metadata": {},
   "source": [
    "We see that only the zeroth and the second Chebyshev coefficient are non-zero.\n",
    "\n",
    "Now let's transform it to the frequency grid."
   ]
  },
  {
   "cell_type": "code",
   "execution_count": 12,
   "metadata": {},
   "outputs": [
    {
     "data": {
      "text/plain": [
       "[<matplotlib.lines.Line2D at 0x7f77fce87e50>]"
      ]
     },
     "execution_count": 12,
     "metadata": {},
     "output_type": "execute_result"
    },
    {
     "data": {
      "image/png": "[encoded data removed]",
      "text/plain": [
       "<Figure size 432x288 with 1 Axes>"
      ]
     },
     "metadata": {
      "needs_background": "light"
     },
     "output_type": "display_data"
    }
   ],
   "source": [
    "fiw = st.l_to_iw(cheb_data_ft, fl)\n",
    "\n",
    "plt.plot(cheb_data_ft.wgrid, fiw.real, '-+')\n",
    "plt.plot(cheb_data_ft.wgrid, fiw.imag, '--x')"
   ]
  },
  {
   "cell_type": "markdown",
   "metadata": {},
   "source": [
    "## Loading data from HDF5"
   ]
  },
  {
   "cell_type": "markdown",
   "metadata": {},
   "source": [
    "Data can be generated in fermion--boson pairs using the script\n",
    "`//python/generate.py`. For example, the example file `ir_1e5.h5`\n",
    "can be generated using\n",
    "\n",
    "```bash\n",
    "PYTHONPATH=${SOURCE_DIR}/python python ${SOURCE_DIR}/python/generate.py ir --irlambda=1e5 --outfile=ir_1e5.h5\n",
    "```"
   ]
  },
  {
   "cell_type": "markdown",
   "metadata": {},
   "source": [
    "We can choose to load a pair of data:"
   ]
  },
  {
   "cell_type": "code",
   "execution_count": 13,
   "metadata": {},
   "outputs": [],
   "source": [
    "from sparse_grid.sparse_data import PairedSparseData\n",
    "ir_pair = PairedSparseData.load_hdf5('ir_1e5.h5')"
   ]
  },
  {
   "cell_type": "code",
   "execution_count": 14,
   "metadata": {},
   "outputs": [
    {
     "data": {
      "text/plain": [
       "({'lambda': 100000.0, 'ncoeff': 136, 'type': 'ir'},\n",
       " {'lambda': 100000.0, 'ncoeff': 127, 'type': 'ir'})"
      ]
     },
     "execution_count": 14,
     "metadata": {},
     "output_type": "execute_result"
    }
   ],
   "source": [
    "ir_pair.get_grid('fermi').metadata, ir_pair.get_grid('bose').metadata"
   ]
  },
  {
   "cell_type": "markdown",
   "metadata": {},
   "source": [
    "This will enable transformations from the fermion grid to the boson\n",
    "grid and vice versa using `sparse_grid.transform.l_to_tau_other`.\n",
    "\n",
    "We can instead choose to load one of the grids, e.g. the fermion one:"
   ]
  },
  {
   "cell_type": "code",
   "execution_count": 15,
   "metadata": {},
   "outputs": [],
   "source": [
    "from sparse_grid.sparse_data import SparseData\n",
    "ir_fermi = SparseData.load_hdf5('ir_1e5.h5', basepath='fermi')"
   ]
  },
  {
   "cell_type": "code",
   "execution_count": 16,
   "metadata": {},
   "outputs": [
    {
     "data": {
      "text/plain": [
       "{'lambda': 100000.0, 'ncoeff': 136, 'type': 'ir'}"
      ]
     },
     "execution_count": 16,
     "metadata": {},
     "output_type": "execute_result"
    }
   ],
   "source": [
    "ir_fermi.metadata"
   ]
  },
  {
   "cell_type": "code",
   "execution_count": null,
   "metadata": {},
   "outputs": [],
   "source": []
  }
 ],
 "metadata": {
  "kernelspec": {
   "display_name": "Python 3",
   "language": "python",
   "name": "python3"
  },
  "language_info": {
   "codemirror_mode": {
    "name": "ipython",
    "version": 3
   },
   "file_extension": ".py",
   "mimetype": "text/x-python",
   "name": "python",
   "nbconvert_exporter": "python",
   "pygments_lexer": "ipython3",
   "version": "3.8.6"
  }
 },
 "nbformat": 4,
 "nbformat_minor": 4
}
